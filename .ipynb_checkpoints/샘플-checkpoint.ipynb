{
 "cells": [
  {
   "cell_type": "code",
   "execution_count": 1,
   "metadata": {},
   "outputs": [],
   "source": [
    "import pandas as pd\n",
    "from bs4 import BeautifulSoup\n",
    "import glob\n",
    "from selenium import webdriver\n",
    "import requests \n",
    "import os"
   ]
  },
  {
   "cell_type": "code",
   "execution_count": null,
   "metadata": {},
   "outputs": [],
   "source": [
    "driver = webdriver.Chrome('c:/chromedriver.exe')\n",
    "url = 'file:///C:/Users/hyb95_000/Desktop/shinhancard_20201110_900046432.html'\n",
    "driver.get(url)\n",
    "html = driver.page_source\n",
    "\n",
    "soup = BeautifulSoup(html,'html.parser')\n",
    "tables = soup.select('div#email02 > table.tblList.cardUseList > tbody > tr > td')\n",
    "\n",
    "tables"
   ]
  },
  {
   "cell_type": "code",
   "execution_count": 99,
   "metadata": {},
   "outputs": [
    {
     "data": {
      "text/plain": [
       "['20.09.27', '20.09.27']"
      ]
     },
     "execution_count": 99,
     "metadata": {},
     "output_type": "execute_result"
    }
   ],
   "source": [
    "date_list = []\n",
    "\n",
    "# for n in range(0,340,10) :\n",
    "#     date = tables[n]\n",
    "#     date_list.append(date.text)\n",
    "    \n",
    "for n in range(0,20,10) :\n",
    "    date = tables[n]\n",
    "    date_list.append(date.text)\n",
    "    \n",
    "date_list"
   ]
  },
  {
   "cell_type": "code",
   "execution_count": 101,
   "metadata": {},
   "outputs": [
    {
     "data": {
      "text/plain": [
       "['서호김밥', 'GS25성수포레점']"
      ]
     },
     "execution_count": 101,
     "metadata": {},
     "output_type": "execute_result"
    }
   ],
   "source": [
    "store_list = []\n",
    "\n",
    "# for n in range(2,340,10) :\n",
    "#     store = tables[n]\n",
    "#     store_list.append(store.text)\n",
    "    \n",
    "for n in range(2,20,10) :\n",
    "    store = tables[n]\n",
    "    store_list.append(store.text)\n",
    "\n",
    "store_list"
   ]
  },
  {
   "cell_type": "code",
   "execution_count": 102,
   "metadata": {},
   "outputs": [
    {
     "name": "stdout",
     "output_type": "stream",
     "text": [
      "base + param_query: https://dapi.kakao.com/v2/local/search/keyword.json?query=서호김밥\n",
      "base + param_query: https://dapi.kakao.com/v2/local/search/keyword.json?query=GS25성수포레점\n"
     ]
    },
    {
     "data": {
      "text/plain": [
       "['서울 서초구 방배동 790-13', '서울 성동구 성수동1가 685-696']"
      ]
     },
     "execution_count": 102,
     "metadata": {},
     "output_type": "execute_result"
    }
   ],
   "source": [
    "location_list = []\n",
    "\n",
    "def create_url(search_text):\n",
    "    headers = {'Authorization': 'KakaoAK 3e8ea332f0cdef6293383ac7bf81a6fc'}\n",
    "\n",
    "    base = \"https://dapi.kakao.com/v2/local/search/keyword.json\"\n",
    "    param_query = \"?query=\" +search_text\n",
    "    print(f'base + param_query: {base + param_query}')\n",
    "    respond = requests.get(base + param_query,headers=headers)\n",
    "    return respond.json()\n",
    "\n",
    "for n in range(len(store_list)) :\n",
    "    store_name = store_list[n]\n",
    "    result = create_url(store_name)\n",
    "#     print(result)\n",
    "    tmp1 = result['documents']\n",
    "    tmp2 = tmp1[0]\n",
    "    tmp3 = tmp2['address_name']\n",
    "    location_list.append(tmp3)\n",
    "    \n",
    "location_list"
   ]
  },
  {
   "cell_type": "code",
   "execution_count": 103,
   "metadata": {},
   "outputs": [
    {
     "data": {
      "text/plain": [
       "['            14,000', '            10,000']"
      ]
     },
     "execution_count": 103,
     "metadata": {},
     "output_type": "execute_result"
    }
   ],
   "source": [
    "price_list = []\n",
    "\n",
    "# for n in range(3,340,10) :\n",
    "#     price = tables[n]\n",
    "#     price_list.append(price.text)\n",
    "    \n",
    "for n in range(3,20,10) :\n",
    "    price = tables[n]\n",
    "    price_list.append(price.text)\n",
    "    \n",
    "price_list"
   ]
  },
  {
   "cell_type": "code",
   "execution_count": 106,
   "metadata": {},
   "outputs": [
    {
     "data": {
      "text/html": [
       "<div>\n",
       "<style scoped>\n",
       "    .dataframe tbody tr th:only-of-type {\n",
       "        vertical-align: middle;\n",
       "    }\n",
       "\n",
       "    .dataframe tbody tr th {\n",
       "        vertical-align: top;\n",
       "    }\n",
       "\n",
       "    .dataframe thead th {\n",
       "        text-align: right;\n",
       "    }\n",
       "</style>\n",
       "<table border=\"1\" class=\"dataframe\">\n",
       "  <thead>\n",
       "    <tr style=\"text-align: right;\">\n",
       "      <th></th>\n",
       "      <th>사용날짜</th>\n",
       "      <th>사용처</th>\n",
       "      <th>사용처주소</th>\n",
       "      <th>사용금액</th>\n",
       "    </tr>\n",
       "  </thead>\n",
       "  <tbody>\n",
       "    <tr>\n",
       "      <th>0</th>\n",
       "      <td>20.09.27</td>\n",
       "      <td>서호김밥</td>\n",
       "      <td>서울 서초구 방배동 790-13</td>\n",
       "      <td>14,000</td>\n",
       "    </tr>\n",
       "    <tr>\n",
       "      <th>1</th>\n",
       "      <td>20.09.27</td>\n",
       "      <td>GS25성수포레점</td>\n",
       "      <td>서울 성동구 성수동1가 685-696</td>\n",
       "      <td>10,000</td>\n",
       "    </tr>\n",
       "  </tbody>\n",
       "</table>\n",
       "</div>"
      ],
      "text/plain": [
       "       사용날짜        사용처                 사용처주소                사용금액\n",
       "0  20.09.27       서호김밥     서울 서초구 방배동 790-13              14,000\n",
       "1  20.09.27  GS25성수포레점  서울 성동구 성수동1가 685-696              10,000"
      ]
     },
     "execution_count": 106,
     "metadata": {},
     "output_type": "execute_result"
    }
   ],
   "source": [
    "table_data = {'사용날짜':date_list, '사용처':store_list, '사용처주소':location_list,  '사용금액':price_list }\n",
    "\n",
    "df1 = pd.DataFrame(table_data, columns=['사용날짜', '사용처', '사용처주소', '사용금액'])\n",
    "\n",
    "df1"
   ]
  },
  {
   "cell_type": "code",
   "execution_count": 107,
   "metadata": {},
   "outputs": [],
   "source": [
    "excel_writer = pd.ExcelWriter('c:/myPyCode/data/carduselist.xlsx', \n",
    "                              engine='xlsxwriter')\n",
    "df1.to_excel(excel_writer, index = False, sheet_name='카드사용리스트')\n",
    "excel_writer.save()"
   ]
  },
  {
   "cell_type": "code",
   "execution_count": null,
   "metadata": {},
   "outputs": [],
   "source": [
    "# address = input('주소를 입력하시오 ')\n",
    "# store_name = input('가게 이름을 입력하시오 ')\n",
    "\n",
    "address = [동작대로 29]\n",
    "store_name = []\n",
    "\n",
    "html = '''\n",
    "<div id=\"map\" style=\"width:1920px;height:1080px;\"></div>\n",
    "\n",
    "<script type=\"text/javascript\" src=\"//dapi.kakao.com/v2/maps/sdk.js?appkey=562beaefa8f3396ba21741328654bece&libraries=services\"></script>\n",
    "<script>\n",
    "var mapContainer = document.getElementById('map'), // 지도를 표시할 div \n",
    "    mapOption = {\n",
    "        center: new kakao.maps.LatLng(33.450701, 126.570667), // 지도의 중심좌표\n",
    "        level: 3 // 지도의 확대 레벨\n",
    "    };  \n",
    "\n",
    "// 지도를 생성합니다    \n",
    "var map = new kakao.maps.Map(mapContainer, mapOption); \n",
    "\n",
    "// 주소-좌표 변환 객체를 생성합니다\n",
    "var geocoder = new kakao.maps.services.Geocoder();\n",
    "'''\n",
    "for i in range(len(address)):\n",
    "\n",
    "    # 주소로 좌표를 검색합니다\n",
    "    html = html + \"geocoder.addressSearch('\" + address[i] + \"', function(result, status) {\"\n",
    "\n",
    "    html = html + '''\n",
    "        // 정상적으로 검색이 완료됐으면 \n",
    "         if (status === kakao.maps.services.Status.OK) {\n",
    "\n",
    "            var coords = new kakao.maps.LatLng(result[0].y, result[0].x);\n",
    "\n",
    "            // 결과값으로 받은 위치를 마커로 표시합니다\n",
    "            var marker = new kakao.maps.Marker({\n",
    "                map: map,\n",
    "                position: coords\n",
    "            });\n",
    "\n",
    "            // 인포윈도우로 장소에 대한 설명을 표시합니다\n",
    "            var infowindow = new kakao.maps.InfoWindow({\n",
    "                content: '<div style=\"width:150px;text-align:center;padding:6px 0;\">'''\n",
    "\n",
    "    html = html + store_name[i] + '''</div>'\n",
    "        });'''\n",
    "\n",
    "html = html + '''\n",
    "        infowindow.open(map, marker);\n",
    "\n",
    "        // 지도의 중심을 결과값으로 받은 위치로 이동시킵니다\n",
    "        map.setCenter(coords);\n",
    "    } \n",
    "});    \n",
    "</script>\n",
    "'''"
   ]
  },
  {
   "cell_type": "code",
   "execution_count": null,
   "metadata": {},
   "outputs": [],
   "source": [
    "map_file = open('map.html', 'w')\n",
    "map_file.write(html)\n",
    "map_file.close()"
   ]
  }
 ],
 "metadata": {
  "kernelspec": {
   "display_name": "Python 3",
   "language": "python",
   "name": "python3"
  },
  "language_info": {
   "codemirror_mode": {
    "name": "ipython",
    "version": 3
   },
   "file_extension": ".py",
   "mimetype": "text/x-python",
   "name": "python",
   "nbconvert_exporter": "python",
   "pygments_lexer": "ipython3",
   "version": "3.8.3"
  }
 },
 "nbformat": 4,
 "nbformat_minor": 4
}
