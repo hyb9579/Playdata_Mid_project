{
 "cells": [
  {
   "cell_type": "code",
   "execution_count": null,
   "metadata": {},
   "outputs": [],
   "source": [
    "from bs4 import BeautifulSoup\n",
    "import openpyxl\n",
    "import requests\n",
    "import os\n",
    "from io import BytesIO\n",
    "import requests\n",
    "import xlsxwriter\n",
    "from selenium import webdriver\n",
    "driver = webdriver.Chrome(\"C:/playwithdata/chromedriver.exe\")\n",
    "# driver = webdriver.Chrome(\"C:/Users/Playdata/Desktop/chromedriver.exe\")\n",
    "url = 'https://www.melon.com/new/index.htm#params%5BareaFlg%5D=I&po=pageObj&startIndex=1'\n",
    "driver.implicitly_wait(1)\n",
    "driver.get(url)\n",
    "html = driver.page_source\n",
    "workbook = xlsxwriter.Workbook('C:/Users/Playdata/Desktop/melon.xlsx')\n",
    "ws = workbook.add_worksheet()\n",
    "\n",
    "ws.write(0, 0, 'No')\n",
    "ws.write(0, 2, '곡정보')\n",
    "ws.write(0, 3, '가수')\n",
    "ws.write(0, 4, '앨범')\n",
    "soup = BeautifulSoup(html,\"html.parser\")\n",
    "sub = soup.select(\".ellipsis.rank01\") # 노래명\n",
    "sub2 = soup.select(\".ellipsis.rank02\") # 가수명\n",
    "sub3 = soup.select(\".ellipsis.rank03\") # 앨범명\n",
    "images = soup.select(\"tbody img\")\n",
    "ws.set_default_row(120) # row height 설정\n",
    "\n",
    "for i in range(len(sub2)):\n",
    "    p1=sub[i].get_text().strip().split(\"\\n\")[0]\n",
    "    p2=sub2[i].get_text().strip().split(\"\\n\")[0]\n",
    "    p3=sub3[i].get_text().strip().split(\"\\n\")[0]\n",
    "    ws.write(i+1, 0, i+1) \n",
    "    ws.write(i+1, 2, p1) \n",
    "    ws.write(i+1, 3, p2[:len(p2)//2])\n",
    "    ws.write(i+1, 4, p3) \n",
    "    ws.set_column(i+1, 1, 30) \n",
    "i=1\n",
    "for p in images:\n",
    "    p=p.get(\"src\")\n",
    "    html_image = requests.get(p)\n",
    "    res = requests.get(p)\n",
    "    image_data = BytesIO(res.content)\n",
    "    image_size = len(image_data.getvalue())\n",
    "    if image_size > 0: \n",
    "        ws.insert_image('B'+str(i+1), url, {'image_data': image_data}) \n",
    "    i+=1\n",
    "workbook.close()"
   ]
  }
 ],
 "metadata": {
  "kernelspec": {
   "display_name": "Python 3",
   "language": "python",
   "name": "python3"
  },
  "language_info": {
   "codemirror_mode": {
    "name": "ipython",
    "version": 3
   },
   "file_extension": ".py",
   "mimetype": "text/x-python",
   "name": "python",
   "nbconvert_exporter": "python",
   "pygments_lexer": "ipython3",
   "version": "3.8.3"
  }
 },
 "nbformat": 4,
 "nbformat_minor": 4
}
