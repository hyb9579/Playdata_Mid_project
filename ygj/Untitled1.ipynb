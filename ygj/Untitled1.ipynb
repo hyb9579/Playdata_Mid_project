{
 "cells": [
  {
   "cell_type": "code",
   "execution_count": 12,
   "metadata": {},
   "outputs": [
    {
     "name": "stdout",
     "output_type": "stream",
     "text": [
      "https://dapi.kakao.com/v2/local/search/address.json?query=전북 삼성동 100\n",
      "{\"documents\":[{\"address\":{\"address_name\":\"전북 익산시 부송동 100\",\"b_code\":\"4514013400\",\"h_code\":\"4514069000\",\"main_address_no\":\"100\",\"mountain_yn\":\"N\",\"region_1depth_name\":\"전북\",\"region_2depth_name\":\"익산시\",\"region_3depth_h_name\":\"삼성동\",\"region_3depth_name\":\"부송동\",\"sub_address_no\":\"\",\"x\":\"126.99597495347\",\"y\":\"35.9766482774579\"},\"address_name\":\"전북 익산시 부송동 100\",\"address_type\":\"REGION_ADDR\",\"road_address\":{\"address_name\":\"전북 익산시 망산길 11-17\",\"building_name\":\"\",\"main_building_no\":\"11\",\"region_1depth_name\":\"전북\",\"region_2depth_name\":\"익산시\",\"region_3depth_name\":\"부송동\",\"road_name\":\"망산길\",\"sub_building_no\":\"17\",\"underground_yn\":\"N\",\"x\":\"126.995995793098\",\"y\":\"35.97675110933\",\"zone_no\":\"54547\"},\"x\":\"126.99597495347\",\"y\":\"35.9766482774579\"},{\"address\":{\"address_name\":\"전북 익산시 임상동 100\",\"b_code\":\"4514013200\",\"h_code\":\"4514069000\",\"main_address_no\":\"100\",\"mountain_yn\":\"N\",\"region_1depth_name\":\"전북\",\"region_2depth_name\":\"익산시\",\"region_3depth_h_name\":\"삼성동\",\"region_3depth_name\":\"임상동\",\"sub_address_no\":\"\",\"x\":\"126.980268573424\",\"y\":\"35.9816612949055\"},\"address_name\":\"전북 익산시 임상동 100\",\"address_type\":\"REGION_ADDR\",\"road_address\":null,\"x\":\"126.980268573424\",\"y\":\"35.9816612949055\"},{\"address\":{\"address_name\":\"전북 익산시 정족동 100\",\"b_code\":\"4514013100\",\"h_code\":\"4514069000\",\"main_address_no\":\"100\",\"mountain_yn\":\"N\",\"region_1depth_name\":\"전북\",\"region_2depth_name\":\"익산시\",\"region_3depth_h_name\":\"삼성동\",\"region_3depth_name\":\"정족동\",\"sub_address_no\":\"\",\"x\":\"127.002020445866\",\"y\":\"35.9829740190924\"},\"address_name\":\"전북 익산시 정족동 100\",\"address_type\":\"REGION_ADDR\",\"road_address\":null,\"x\":\"127.002020445866\",\"y\":\"35.9829740190924\"}],\"meta\":{\"is_end\":true,\"pageable_count\":3,\"total_count\":3}}\n",
      "\n"
     ]
    }
   ],
   "source": [
    "import requests\n",
    "\n",
    "\n",
    "\n",
    "\n",
    "def create_url(search_text):\n",
    "    headers = {'Authorization': 'KakaoAK 3e8ea332f0cdef6293383ac7bf81a6fc'}\n",
    "\n",
    "    base = \"https://dapi.kakao.com/v2/local/search/address.json\"\n",
    "    param_query = \"?query=\" +search_text\n",
    "    print(base + param_query)\n",
    "    respond = requests.get(base + param_query,headers=headers)\n",
    "    return respond.text\n",
    "    \n",
    "print(create_url('전북 삼성동 100'))"
   ]
  },
  {
   "cell_type": "code",
   "execution_count": 20,
   "metadata": {},
   "outputs": [
    {
     "name": "stdout",
     "output_type": "stream",
     "text": [
      "https://dapi.kakao.com/v2/local/search/keyword.json?query=서호분식\n",
      "[{'address_name': '서울 서초구 방배동 790-13', 'category_group_code': 'FD6', 'category_group_name': '음식점', 'category_name': '음식점 > 분식', 'distance': '', 'id': '16532780', 'phone': '02-594-4434', 'place_name': '서호김밥 본점', 'place_url': 'http://place.map.kakao.com/16532780', 'road_address_name': '서울 서초구 방배중앙로 141-1', 'x': '126.986693090331', 'y': '37.4916764395268'}, {'address_name': '서울 서초구 방배동 1476', 'category_group_code': 'FD6', 'category_group_name': '음식점', 'category_name': '음식점 > 분식', 'distance': '', 'id': '2095304311', 'phone': '02-532-4420', 'place_name': '서호김밥 이수점', 'place_url': 'http://place.map.kakao.com/2095304311', 'road_address_name': '서울 서초구 서초대로1길 10', 'x': '126.983211332217', 'y': '37.4871385210984'}, {'address_name': '경남 통영시 서호동 163-37', 'category_group_code': 'FD6', 'category_group_name': '음식점', 'category_name': '음식점 > 분식', 'distance': '', 'id': '1260893920', 'phone': '', 'place_name': '배말칼국수김밥 통영서호점', 'place_url': 'http://place.map.kakao.com/1260893920', 'road_address_name': '경남 통영시 새터길 68', 'x': '128.420314566749', 'y': '34.8415624883179'}, {'address_name': '경기 성남시 분당구 서현동 263', 'category_group_code': 'FD6', 'category_group_name': '음식점', 'category_name': '음식점 > 분식', 'distance': '', 'id': '619270332', 'phone': '', 'place_name': '서호김밥 AK플라자 분당점', 'place_url': 'http://place.map.kakao.com/619270332', 'road_address_name': '경기 성남시 분당구 황새울로360번길 42', 'x': '127.123336594407', 'y': '37.3849939013543'}, {'address_name': '대구 동구 서호동 78-2', 'category_group_code': 'FD6', 'category_group_name': '음식점', 'category_name': '음식점 > 분식', 'distance': '', 'id': '14637666', 'phone': '053-961-4660', 'place_name': '산내들김밥천국', 'place_url': 'http://place.map.kakao.com/14637666', 'road_address_name': '대구 동구 안심로41길 37', 'x': '128.708312555608', 'y': '35.8694763990626'}]\n"
     ]
    }
   ],
   "source": [
    "import requests\n",
    "\n",
    "def create_url(search_text):\n",
    "    headers = {'Authorization': 'KakaoAK 3e8ea332f0cdef6293383ac7bf81a6fc'}\n",
    "\n",
    "    base = \"https://dapi.kakao.com/v2/local/search/keyword.json\"\n",
    "    param_query = \"?query=\" + search_text\n",
    "    print(base + param_query)\n",
    "    respond = requests.get(base + param_query, headers=headers)\n",
    "    return respond.json()\n",
    "    \n",
    "result = create_url('서호분식')\n",
    "print(result['documents'])\n",
    "\n",
    "\n"
   ]
  },
  {
   "cell_type": "code",
   "execution_count": null,
   "metadata": {},
   "outputs": [],
   "source": []
  }
 ],
 "metadata": {
  "kernelspec": {
   "display_name": "Python 3",
   "language": "python",
   "name": "python3"
  },
  "language_info": {
   "codemirror_mode": {
    "name": "ipython",
    "version": 3
   },
   "file_extension": ".py",
   "mimetype": "text/x-python",
   "name": "python",
   "nbconvert_exporter": "python",
   "pygments_lexer": "ipython3",
   "version": "3.8.3"
  }
 },
 "nbformat": 4,
 "nbformat_minor": 4
}
